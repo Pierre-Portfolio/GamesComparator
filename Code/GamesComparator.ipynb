{
 "cells": [
  {
   "cell_type": "markdown",
   "id": "cc6d319d",
   "metadata": {},
   "source": [
    "# Projet Web Scrapping"
   ]
  },
  {
   "cell_type": "code",
   "execution_count": 1,
   "id": "da3bab1a",
   "metadata": {},
   "outputs": [
    {
     "name": "stdout",
     "output_type": "stream",
     "text": [
      "Requirement already satisfied: bs4 in c:\\users\\petil\\anaconda3\\lib\\site-packages (0.0.1)\n",
      "Requirement already satisfied: beautifulsoup4 in c:\\users\\petil\\anaconda3\\lib\\site-packages (from bs4) (4.11.1)\n",
      "Requirement already satisfied: soupsieve>1.2 in c:\\users\\petil\\anaconda3\\lib\\site-packages (from beautifulsoup4->bs4) (2.3.1)\n",
      "Requirement already satisfied: selenium in c:\\users\\petil\\anaconda3\\lib\\site-packages (4.6.0)\n",
      "Requirement already satisfied: trio~=0.17 in c:\\users\\petil\\anaconda3\\lib\\site-packages (from selenium) (0.22.0)\n",
      "Requirement already satisfied: urllib3[socks]~=1.26 in c:\\users\\petil\\appdata\\roaming\\python\\python39\\site-packages (from selenium) (1.26.12)\n",
      "Requirement already satisfied: trio-websocket~=0.9 in c:\\users\\petil\\anaconda3\\lib\\site-packages (from selenium) (0.9.2)\n",
      "Requirement already satisfied: certifi>=2021.10.8 in c:\\users\\petil\\appdata\\roaming\\python\\python39\\site-packages (from selenium) (2022.9.24)\n",
      "Requirement already satisfied: outcome in c:\\users\\petil\\anaconda3\\lib\\site-packages (from trio~=0.17->selenium) (1.2.0)\n",
      "Requirement already satisfied: cffi>=1.14 in c:\\users\\petil\\anaconda3\\lib\\site-packages (from trio~=0.17->selenium) (1.15.1)\n",
      "Requirement already satisfied: sniffio in c:\\users\\petil\\anaconda3\\lib\\site-packages (from trio~=0.17->selenium) (1.2.0)\n",
      "Requirement already satisfied: async-generator>=1.9 in c:\\users\\petil\\anaconda3\\lib\\site-packages (from trio~=0.17->selenium) (1.10)\n",
      "Requirement already satisfied: attrs>=19.2.0 in c:\\users\\petil\\anaconda3\\lib\\site-packages (from trio~=0.17->selenium) (21.4.0)\n",
      "Requirement already satisfied: idna in c:\\users\\petil\\appdata\\roaming\\python\\python39\\site-packages (from trio~=0.17->selenium) (2.10)\n",
      "Requirement already satisfied: exceptiongroup>=1.0.0rc9 in c:\\users\\petil\\anaconda3\\lib\\site-packages (from trio~=0.17->selenium) (1.0.1)\n",
      "Requirement already satisfied: sortedcontainers in c:\\users\\petil\\anaconda3\\lib\\site-packages (from trio~=0.17->selenium) (2.4.0)\n",
      "Requirement already satisfied: wsproto>=0.14 in c:\\users\\petil\\anaconda3\\lib\\site-packages (from trio-websocket~=0.9->selenium) (1.2.0)\n",
      "Requirement already satisfied: PySocks!=1.5.7,<2.0,>=1.5.6 in c:\\users\\petil\\anaconda3\\lib\\site-packages (from urllib3[socks]~=1.26->selenium) (1.7.1)\n",
      "Requirement already satisfied: pycparser in c:\\users\\petil\\anaconda3\\lib\\site-packages (from cffi>=1.14->trio~=0.17->selenium) (2.21)\n",
      "Requirement already satisfied: h11<1,>=0.9.0 in c:\\users\\petil\\anaconda3\\lib\\site-packages (from wsproto>=0.14->trio-websocket~=0.9->selenium) (0.9.0)\n"
     ]
    }
   ],
   "source": [
    "!pip install bs4\n",
    "!pip install selenium"
   ]
  },
  {
   "cell_type": "code",
   "execution_count": 2,
   "id": "e701faf5",
   "metadata": {},
   "outputs": [],
   "source": [
    "# Other libs possible to use\n",
    "#pip install requests\n",
    "#pip install jyquickhelper\n",
    "#pip install urllib3\n",
    "#pip install selenium\n",
    "#pip install scrapy"
   ]
  },
  {
   "cell_type": "code",
   "execution_count": 3,
   "id": "c663340c",
   "metadata": {},
   "outputs": [],
   "source": [
    "# Import packages for Beautiful Soup\n",
    "import urllib\n",
    "import bs4\n",
    "import requests\n",
    "from urllib import request\n",
    "from bs4 import BeautifulSoup\n",
    "import json"
   ]
  },
  {
   "cell_type": "code",
   "execution_count": 4,
   "id": "e2f556dd",
   "metadata": {},
   "outputs": [],
   "source": [
    "# importing packages for selenium\n",
    "from selenium import webdriver\n",
    "from selenium.webdriver.common.by import By"
   ]
  },
  {
   "cell_type": "code",
   "execution_count": 5,
   "id": "1a0b928f",
   "metadata": {},
   "outputs": [],
   "source": [
    "# Global var\n",
    "Steam = \"https://store.steampowered.com/search/?term=\"\n",
    "IG = \"https://www.instant-gaming.com/fr/rechercher/?q=\"\n",
    "G2A = \"https://www.g2a.com/fr/search?query=\"\n",
    "EpicGames = \"https://store.epicgames.com/en-US/browse?q=\"\n",
    "GOG = \"https://www.gog.com/fr/games?query=\""
   ]
  },
  {
   "cell_type": "code",
   "execution_count": 18,
   "id": "209eb964",
   "metadata": {},
   "outputs": [],
   "source": [
    "#Function which return a Json object\n",
    "def ReturnJsonElem(title =  None, picture_url = None, price = None, opinion = None ):\n",
    "    # Create a dictionary with the information\n",
    "    game_info = {\n",
    "        'title': title,\n",
    "        'picture_url': picture_url,\n",
    "        'price': price,\n",
    "        'opinion' : opinion\n",
    "    }\n",
    "\n",
    "    # Convert the dictionary to a JSON object\n",
    "    game_info_json = json.dumps(game_info)\n",
    "\n",
    "    return game_info_json"
   ]
  },
  {
   "cell_type": "markdown",
   "id": "0c1738dc",
   "metadata": {},
   "source": [
    "Now we scrap the search pages of all platforms"
   ]
  },
  {
   "cell_type": "code",
   "execution_count": 19,
   "id": "8493a8c0",
   "metadata": {},
   "outputs": [],
   "source": [
    "# Steam\n",
    "def ScrappingSteam(userSearch):\n",
    "    # Send a GET request to the Steam search page for FIFA 22\n",
    "    url = str(Steam + userSearch)\n",
    "    response = requests.get(url)\n",
    "\n",
    "    # Parse the HTML content of the page\n",
    "    soup = BeautifulSoup(response.text, 'html.parser')\n",
    "\n",
    "    # Find the first result on the page\n",
    "    result = soup.find('a', class_='search_result_row')\n",
    "    \n",
    "    # Find the opinion of the game\n",
    "    opinion_element = soup.find(\"span\", {\"class\": \"search_review_summary positive\"})\n",
    "\n",
    "    # Extract the title, picture, and price from the result\n",
    "    title = result.find('span', class_='title').text\n",
    "    picture_url = result.img['src']\n",
    "    price = result.find('div', class_='search_price').text\n",
    "    opinion = opinion_element[\"data-tooltip-html\"]\n",
    "    \n",
    "    # Return the informations\n",
    "    return ReturnJsonElem(title, picture_url, price, opinion)"
   ]
  },
  {
   "cell_type": "code",
   "execution_count": 25,
   "id": "a8fe3e6c",
   "metadata": {},
   "outputs": [],
   "source": [
    "# Instant Gaming\n",
    "def ScrappingIG(userSearch):\n",
    "    IG_url = str(IG + userSearch.replace(\" \",\"+\"))\n",
    "    request_text = requests.get(IG_url).content\n",
    "    htmlpage = bs4.BeautifulSoup(request_text, \"html\")\n",
    "    price = htmlpage.find_all(class_ = \"price\")[1].text\n",
    "    \n",
    "    # Return the informations\n",
    "    return ReturnJsonElem(title, picture_url, price, opinion)"
   ]
  },
  {
   "cell_type": "code",
   "execution_count": 29,
   "id": "0689f855",
   "metadata": {},
   "outputs": [],
   "source": [
    "# G2A\n",
    "def ScrappingG2A(userSearch):\n",
    "    # scraping\n",
    "    driver = webdriver.Chrome()\n",
    "    driver.get(G2A + userSearch.replace(\" \",\"+\"))\n",
    "\n",
    "    # we select the correct data\n",
    "    content = driver.find_element(By.CLASS_NAME, \"hMxmQl\").get_attribute('innerHTML');\n",
    "    price=str(content.split(\">\")[3] + content.split(\">\")[1][0])\n",
    "    print(price)\n",
    "\n",
    "    # Closes the current window\n",
    "    driver.close()\n",
    "    \n",
    "    # Return the informations\n",
    "    return ReturnJsonElem(title, picture_url, price, opinion)\n",
    "\n",
    "'''\n",
    "from selenium import webdriver\n",
    "from selenium.webdriver.common.by import By\n",
    "\n",
    "# Set the URL you want to scrape\n",
    "url = \"https://www.g2a.com/fr/search?query=\"\n",
    "\n",
    "# Create a new Chrome browser and navigate to the URL\n",
    "driver = webdriver.Chrome()\n",
    "driver.get(url)\n",
    "\n",
    "# Find the title of the game\n",
    "title = driver.find_element(By.XPATH, '//h3[@class=\"card-title\"]').text\n",
    "\n",
    "# Find the price of the game\n",
    "price = driver.find_element(By.XPATH, '//span[@class=\"price\"]').text\n",
    "\n",
    "# Find the picture of the game\n",
    "picture = driver.find_element(By.XPATH, '//img[@class=\"card-img-top\"]').get_attribute('src')\n",
    "\n",
    "# Find the opinion of the game\n",
    "opinion = driver.find_element(By.XPATH, '//div[@class=\"card-text\"]').text\n",
    "\n",
    "# Print the results\n",
    "print(title)\n",
    "print(price)\n",
    "print(picture)\n",
    "print(opinion)\n",
    "\n",
    "# Close the browser\n",
    "driver.quit()\n",
    "'''"
   ]
  },
  {
   "cell_type": "code",
   "execution_count": 51,
   "id": "036080ad",
   "metadata": {},
   "outputs": [
    {
     "name": "stdout",
     "output_type": "stream",
     "text": [
      "€31.99\n"
     ]
    }
   ],
   "source": [
    "#Epicgames\n",
    "# scraping\n",
    "driver = webdriver.Chrome()\n",
    "EP_url = str(EpicGames + userSearch.replace(\" \",\"%20\")+'&sortBy=relevancy')\n",
    "driver.get(EP_url)\n",
    "#xpath='/html/body/div[1]/div/div[4]/main/div[2]/div/div/div/div/section/div/section/div/section/section/ul/li/div/div/a/div/div/div[2]/div[3]/div/div/div/div/span'\n",
    "\n",
    "# we select the correct data\n",
    "content = driver.find_elements(By.CLASS_NAME, \"css-119zqif\")[5].get_attribute('innerHTML');\n",
    "price_epic=content\n",
    "print(price_epic)\n",
    "# Closes the current window\n",
    "driver.close()"
   ]
  },
  {
   "cell_type": "code",
   "execution_count": 62,
   "id": "f04bd9f7",
   "metadata": {},
   "outputs": [
    {
     "name": "stdout",
     "output_type": "stream",
     "text": [
      "19,99 €\n"
     ]
    }
   ],
   "source": [
    "# GOG\n",
    "GOG_url = str(GOG + userSearch.replace(\" \",\"%20\"))\n",
    "request_text = request.urlopen(GOG_url).read()\n",
    "htmlpage = bs4.BeautifulSoup(request_text, \"html\")\n",
    "price_GoG = htmlpage.find_all(class_ = \"final-value\")[0].text\n",
    "print(price_GoG)"
   ]
  },
  {
   "cell_type": "markdown",
   "id": "f06f0edf",
   "metadata": {},
   "source": [
    "# Result "
   ]
  },
  {
   "cell_type": "code",
   "execution_count": 30,
   "id": "b6a14345",
   "metadata": {},
   "outputs": [
    {
     "ename": "NoSuchElementException",
     "evalue": "Message: no such element: Unable to locate element: {\"method\":\"css selector\",\"selector\":\".hMxmQl\"}\n  (Session info: chrome=108.0.5359.125)\nStacktrace:\nBacktrace:\n\t(No symbol) [0x00A6F243]\n\t(No symbol) [0x009F7FD1]\n\t(No symbol) [0x008ED04D]\n\t(No symbol) [0x0091C0B0]\n\t(No symbol) [0x0091C22B]\n\t(No symbol) [0x0094E612]\n\t(No symbol) [0x009385D4]\n\t(No symbol) [0x0094C9EB]\n\t(No symbol) [0x00938386]\n\t(No symbol) [0x0091163C]\n\t(No symbol) [0x0091269D]\n\tGetHandleVerifier [0x00D09A22+2655074]\n\tGetHandleVerifier [0x00CFCA24+2601828]\n\tGetHandleVerifier [0x00B18C0A+619850]\n\tGetHandleVerifier [0x00B17830+614768]\n\t(No symbol) [0x00A005FC]\n\t(No symbol) [0x00A05968]\n\t(No symbol) [0x00A05A55]\n\t(No symbol) [0x00A1051B]\n\tBaseThreadInitThunk [0x75D47D69+25]\n\tRtlInitializeExceptionChain [0x772FBB9B+107]\n\tRtlClearBits [0x772FBB1F+191]\n",
     "output_type": "error",
     "traceback": [
      "\u001b[1;31m---------------------------------------------------------------------------\u001b[0m",
      "\u001b[1;31mNoSuchElementException\u001b[0m                    Traceback (most recent call last)",
      "\u001b[1;32m~\\AppData\\Local\\Temp\\ipykernel_7656\\1463418215.py\u001b[0m in \u001b[0;36m<module>\u001b[1;34m\u001b[0m\n\u001b[0;32m     11\u001b[0m \u001b[1;33m\u001b[0m\u001b[0m\n\u001b[0;32m     12\u001b[0m \u001b[1;31m#G2A\u001b[0m\u001b[1;33m\u001b[0m\u001b[1;33m\u001b[0m\u001b[0m\n\u001b[1;32m---> 13\u001b[1;33m \u001b[0mprint\u001b[0m\u001b[1;33m(\u001b[0m\u001b[0mScrappingG2A\u001b[0m\u001b[1;33m(\u001b[0m\u001b[0muserSearch\u001b[0m\u001b[1;33m)\u001b[0m\u001b[1;33m)\u001b[0m\u001b[1;33m\u001b[0m\u001b[1;33m\u001b[0m\u001b[0m\n\u001b[0m",
      "\u001b[1;32m~\\AppData\\Local\\Temp\\ipykernel_7656\\3256268138.py\u001b[0m in \u001b[0;36mScrappingG2A\u001b[1;34m(userSearch)\u001b[0m\n\u001b[0;32m      6\u001b[0m \u001b[1;33m\u001b[0m\u001b[0m\n\u001b[0;32m      7\u001b[0m     \u001b[1;31m# we select the correct data\u001b[0m\u001b[1;33m\u001b[0m\u001b[1;33m\u001b[0m\u001b[0m\n\u001b[1;32m----> 8\u001b[1;33m     \u001b[0mcontent\u001b[0m \u001b[1;33m=\u001b[0m \u001b[0mdriver\u001b[0m\u001b[1;33m.\u001b[0m\u001b[0mfind_element\u001b[0m\u001b[1;33m(\u001b[0m\u001b[0mBy\u001b[0m\u001b[1;33m.\u001b[0m\u001b[0mCLASS_NAME\u001b[0m\u001b[1;33m,\u001b[0m \u001b[1;34m\"hMxmQl\"\u001b[0m\u001b[1;33m)\u001b[0m\u001b[1;33m.\u001b[0m\u001b[0mget_attribute\u001b[0m\u001b[1;33m(\u001b[0m\u001b[1;34m'innerHTML'\u001b[0m\u001b[1;33m)\u001b[0m\u001b[1;33m;\u001b[0m\u001b[1;33m\u001b[0m\u001b[1;33m\u001b[0m\u001b[0m\n\u001b[0m\u001b[0;32m      9\u001b[0m     \u001b[0mprice\u001b[0m\u001b[1;33m=\u001b[0m\u001b[0mstr\u001b[0m\u001b[1;33m(\u001b[0m\u001b[0mcontent\u001b[0m\u001b[1;33m.\u001b[0m\u001b[0msplit\u001b[0m\u001b[1;33m(\u001b[0m\u001b[1;34m\">\"\u001b[0m\u001b[1;33m)\u001b[0m\u001b[1;33m[\u001b[0m\u001b[1;36m3\u001b[0m\u001b[1;33m]\u001b[0m \u001b[1;33m+\u001b[0m \u001b[0mcontent\u001b[0m\u001b[1;33m.\u001b[0m\u001b[0msplit\u001b[0m\u001b[1;33m(\u001b[0m\u001b[1;34m\">\"\u001b[0m\u001b[1;33m)\u001b[0m\u001b[1;33m[\u001b[0m\u001b[1;36m1\u001b[0m\u001b[1;33m]\u001b[0m\u001b[1;33m[\u001b[0m\u001b[1;36m0\u001b[0m\u001b[1;33m]\u001b[0m\u001b[1;33m)\u001b[0m\u001b[1;33m\u001b[0m\u001b[1;33m\u001b[0m\u001b[0m\n\u001b[0;32m     10\u001b[0m     \u001b[0mprint\u001b[0m\u001b[1;33m(\u001b[0m\u001b[0mprice\u001b[0m\u001b[1;33m)\u001b[0m\u001b[1;33m\u001b[0m\u001b[1;33m\u001b[0m\u001b[0m\n",
      "\u001b[1;32m~\\anaconda3\\lib\\site-packages\\selenium\\webdriver\\remote\\webdriver.py\u001b[0m in \u001b[0;36mfind_element\u001b[1;34m(self, by, value)\u001b[0m\n\u001b[0;32m    859\u001b[0m             \u001b[0mvalue\u001b[0m \u001b[1;33m=\u001b[0m \u001b[1;34m'[name=\"%s\"]'\u001b[0m \u001b[1;33m%\u001b[0m \u001b[0mvalue\u001b[0m\u001b[1;33m\u001b[0m\u001b[1;33m\u001b[0m\u001b[0m\n\u001b[0;32m    860\u001b[0m \u001b[1;33m\u001b[0m\u001b[0m\n\u001b[1;32m--> 861\u001b[1;33m         \u001b[1;32mreturn\u001b[0m \u001b[0mself\u001b[0m\u001b[1;33m.\u001b[0m\u001b[0mexecute\u001b[0m\u001b[1;33m(\u001b[0m\u001b[0mCommand\u001b[0m\u001b[1;33m.\u001b[0m\u001b[0mFIND_ELEMENT\u001b[0m\u001b[1;33m,\u001b[0m \u001b[1;33m{\u001b[0m\u001b[1;34m\"using\"\u001b[0m\u001b[1;33m:\u001b[0m \u001b[0mby\u001b[0m\u001b[1;33m,\u001b[0m \u001b[1;34m\"value\"\u001b[0m\u001b[1;33m:\u001b[0m \u001b[0mvalue\u001b[0m\u001b[1;33m}\u001b[0m\u001b[1;33m)\u001b[0m\u001b[1;33m[\u001b[0m\u001b[1;34m\"value\"\u001b[0m\u001b[1;33m]\u001b[0m\u001b[1;33m\u001b[0m\u001b[1;33m\u001b[0m\u001b[0m\n\u001b[0m\u001b[0;32m    862\u001b[0m \u001b[1;33m\u001b[0m\u001b[0m\n\u001b[0;32m    863\u001b[0m     \u001b[1;32mdef\u001b[0m \u001b[0mfind_elements\u001b[0m\u001b[1;33m(\u001b[0m\u001b[0mself\u001b[0m\u001b[1;33m,\u001b[0m \u001b[0mby\u001b[0m\u001b[1;33m=\u001b[0m\u001b[0mBy\u001b[0m\u001b[1;33m.\u001b[0m\u001b[0mID\u001b[0m\u001b[1;33m,\u001b[0m \u001b[0mvalue\u001b[0m\u001b[1;33m:\u001b[0m \u001b[0mOptional\u001b[0m\u001b[1;33m[\u001b[0m\u001b[0mstr\u001b[0m\u001b[1;33m]\u001b[0m \u001b[1;33m=\u001b[0m \u001b[1;32mNone\u001b[0m\u001b[1;33m)\u001b[0m \u001b[1;33m->\u001b[0m \u001b[0mList\u001b[0m\u001b[1;33m[\u001b[0m\u001b[0mWebElement\u001b[0m\u001b[1;33m]\u001b[0m\u001b[1;33m:\u001b[0m\u001b[1;33m\u001b[0m\u001b[1;33m\u001b[0m\u001b[0m\n",
      "\u001b[1;32m~\\anaconda3\\lib\\site-packages\\selenium\\webdriver\\remote\\webdriver.py\u001b[0m in \u001b[0;36mexecute\u001b[1;34m(self, driver_command, params)\u001b[0m\n\u001b[0;32m    442\u001b[0m         \u001b[0mresponse\u001b[0m \u001b[1;33m=\u001b[0m \u001b[0mself\u001b[0m\u001b[1;33m.\u001b[0m\u001b[0mcommand_executor\u001b[0m\u001b[1;33m.\u001b[0m\u001b[0mexecute\u001b[0m\u001b[1;33m(\u001b[0m\u001b[0mdriver_command\u001b[0m\u001b[1;33m,\u001b[0m \u001b[0mparams\u001b[0m\u001b[1;33m)\u001b[0m\u001b[1;33m\u001b[0m\u001b[1;33m\u001b[0m\u001b[0m\n\u001b[0;32m    443\u001b[0m         \u001b[1;32mif\u001b[0m \u001b[0mresponse\u001b[0m\u001b[1;33m:\u001b[0m\u001b[1;33m\u001b[0m\u001b[1;33m\u001b[0m\u001b[0m\n\u001b[1;32m--> 444\u001b[1;33m             \u001b[0mself\u001b[0m\u001b[1;33m.\u001b[0m\u001b[0merror_handler\u001b[0m\u001b[1;33m.\u001b[0m\u001b[0mcheck_response\u001b[0m\u001b[1;33m(\u001b[0m\u001b[0mresponse\u001b[0m\u001b[1;33m)\u001b[0m\u001b[1;33m\u001b[0m\u001b[1;33m\u001b[0m\u001b[0m\n\u001b[0m\u001b[0;32m    445\u001b[0m             \u001b[0mresponse\u001b[0m\u001b[1;33m[\u001b[0m\u001b[1;34m\"value\"\u001b[0m\u001b[1;33m]\u001b[0m \u001b[1;33m=\u001b[0m \u001b[0mself\u001b[0m\u001b[1;33m.\u001b[0m\u001b[0m_unwrap_value\u001b[0m\u001b[1;33m(\u001b[0m\u001b[0mresponse\u001b[0m\u001b[1;33m.\u001b[0m\u001b[0mget\u001b[0m\u001b[1;33m(\u001b[0m\u001b[1;34m\"value\"\u001b[0m\u001b[1;33m,\u001b[0m \u001b[1;32mNone\u001b[0m\u001b[1;33m)\u001b[0m\u001b[1;33m)\u001b[0m\u001b[1;33m\u001b[0m\u001b[1;33m\u001b[0m\u001b[0m\n\u001b[0;32m    446\u001b[0m             \u001b[1;32mreturn\u001b[0m \u001b[0mresponse\u001b[0m\u001b[1;33m\u001b[0m\u001b[1;33m\u001b[0m\u001b[0m\n",
      "\u001b[1;32m~\\anaconda3\\lib\\site-packages\\selenium\\webdriver\\remote\\errorhandler.py\u001b[0m in \u001b[0;36mcheck_response\u001b[1;34m(self, response)\u001b[0m\n\u001b[0;32m    247\u001b[0m                 \u001b[0malert_text\u001b[0m \u001b[1;33m=\u001b[0m \u001b[0mvalue\u001b[0m\u001b[1;33m[\u001b[0m\u001b[1;34m\"alert\"\u001b[0m\u001b[1;33m]\u001b[0m\u001b[1;33m.\u001b[0m\u001b[0mget\u001b[0m\u001b[1;33m(\u001b[0m\u001b[1;34m\"text\"\u001b[0m\u001b[1;33m)\u001b[0m\u001b[1;33m\u001b[0m\u001b[1;33m\u001b[0m\u001b[0m\n\u001b[0;32m    248\u001b[0m             \u001b[1;32mraise\u001b[0m \u001b[0mexception_class\u001b[0m\u001b[1;33m(\u001b[0m\u001b[0mmessage\u001b[0m\u001b[1;33m,\u001b[0m \u001b[0mscreen\u001b[0m\u001b[1;33m,\u001b[0m \u001b[0mstacktrace\u001b[0m\u001b[1;33m,\u001b[0m \u001b[0malert_text\u001b[0m\u001b[1;33m)\u001b[0m  \u001b[1;31m# type: ignore[call-arg]  # mypy is not smart enough here\u001b[0m\u001b[1;33m\u001b[0m\u001b[1;33m\u001b[0m\u001b[0m\n\u001b[1;32m--> 249\u001b[1;33m         \u001b[1;32mraise\u001b[0m \u001b[0mexception_class\u001b[0m\u001b[1;33m(\u001b[0m\u001b[0mmessage\u001b[0m\u001b[1;33m,\u001b[0m \u001b[0mscreen\u001b[0m\u001b[1;33m,\u001b[0m \u001b[0mstacktrace\u001b[0m\u001b[1;33m)\u001b[0m\u001b[1;33m\u001b[0m\u001b[1;33m\u001b[0m\u001b[0m\n\u001b[0m",
      "\u001b[1;31mNoSuchElementException\u001b[0m: Message: no such element: Unable to locate element: {\"method\":\"css selector\",\"selector\":\".hMxmQl\"}\n  (Session info: chrome=108.0.5359.125)\nStacktrace:\nBacktrace:\n\t(No symbol) [0x00A6F243]\n\t(No symbol) [0x009F7FD1]\n\t(No symbol) [0x008ED04D]\n\t(No symbol) [0x0091C0B0]\n\t(No symbol) [0x0091C22B]\n\t(No symbol) [0x0094E612]\n\t(No symbol) [0x009385D4]\n\t(No symbol) [0x0094C9EB]\n\t(No symbol) [0x00938386]\n\t(No symbol) [0x0091163C]\n\t(No symbol) [0x0091269D]\n\tGetHandleVerifier [0x00D09A22+2655074]\n\tGetHandleVerifier [0x00CFCA24+2601828]\n\tGetHandleVerifier [0x00B18C0A+619850]\n\tGetHandleVerifier [0x00B17830+614768]\n\t(No symbol) [0x00A005FC]\n\t(No symbol) [0x00A05968]\n\t(No symbol) [0x00A05A55]\n\t(No symbol) [0x00A1051B]\n\tBaseThreadInitThunk [0x75D47D69+25]\n\tRtlInitializeExceptionChain [0x772FBB9B+107]\n\tRtlClearBits [0x772FBB1F+191]\n"
     ]
    }
   ],
   "source": [
    "# We define the game at find in the page\n",
    "userSearch = \"fifa22\"\n",
    "\n",
    "#Steam\n",
    "#print(\"--- Steam ---\")\n",
    "#print(ScrappingSteam(userSearch))\n",
    "\n",
    "#IG\n",
    "#print(\"--- IG ---\")\n",
    "#print(ScrappingIG(userSearch))\n",
    "\n",
    "#G2A\n",
    "print(ScrappingG2A(userSearch))"
   ]
  },
  {
   "cell_type": "code",
   "execution_count": null,
   "id": "a0af66b0",
   "metadata": {},
   "outputs": [],
   "source": []
  }
 ],
 "metadata": {
  "kernelspec": {
   "display_name": "Python 3 (ipykernel)",
   "language": "python",
   "name": "python3"
  },
  "language_info": {
   "codemirror_mode": {
    "name": "ipython",
    "version": 3
   },
   "file_extension": ".py",
   "mimetype": "text/x-python",
   "name": "python",
   "nbconvert_exporter": "python",
   "pygments_lexer": "ipython3",
   "version": "3.9.13"
  },
  "vscode": {
   "interpreter": {
    "hash": "916dbcbb3f70747c44a77c7bcd40155683ae19c65e1c03b4aa3499c5328201f1"
   }
  }
 },
 "nbformat": 4,
 "nbformat_minor": 5
}
