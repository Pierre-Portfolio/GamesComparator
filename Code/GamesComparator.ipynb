{
 "cells": [
  {
   "cell_type": "markdown",
   "id": "cc6d319d",
   "metadata": {},
   "source": [
    "# Projet Web Scrapping"
   ]
  },
  {
   "cell_type": "code",
   "execution_count": 36,
   "id": "da3bab1a",
   "metadata": {},
   "outputs": [
    {
     "name": "stdout",
     "output_type": "stream",
     "text": [
      "Requirement already satisfied: bs4 in c:\\users\\petil\\anaconda3\\lib\\site-packages (0.0.1)\n",
      "Requirement already satisfied: beautifulsoup4 in c:\\users\\petil\\anaconda3\\lib\\site-packages (from bs4) (4.11.1)\n",
      "Requirement already satisfied: soupsieve>1.2 in c:\\users\\petil\\anaconda3\\lib\\site-packages (from beautifulsoup4->bs4) (2.3.1)\n",
      "Note: you may need to restart the kernel to use updated packages.\n"
     ]
    }
   ],
   "source": [
    "pip install bs4"
   ]
  },
  {
   "cell_type": "code",
   "execution_count": 37,
   "id": "e701faf5",
   "metadata": {},
   "outputs": [],
   "source": [
    "# Other libs possible to use\n",
    "#pip install requests\n",
    "#pip install jyquickhelper\n",
    "#pip install urllib3\n",
    "#pip install selenium\n",
    "#pip install scrapy"
   ]
  },
  {
   "cell_type": "code",
   "execution_count": 1,
   "id": "c663340c",
   "metadata": {},
   "outputs": [],
   "source": [
    "# Import packages for Beautiful Soup\n",
    "import urllib\n",
    "import bs4\n",
    "import requests\n",
    "from urllib import request\n",
    "from bs4 import BeautifulSoup"
   ]
  },
  {
   "cell_type": "code",
   "execution_count": 2,
   "id": "e2f556dd",
   "metadata": {},
   "outputs": [],
   "source": [
    "# importing packages for selenium\n",
    "from selenium import webdriver\n",
    "from selenium.webdriver.common.by import By"
   ]
  },
  {
   "cell_type": "code",
   "execution_count": 3,
   "id": "1a0b928f",
   "metadata": {},
   "outputs": [],
   "source": [
    "# Global var\n",
    "Steam = \"https://store.steampowered.com/search/?term=\"\n",
    "IG = \"https://www.instant-gaming.com/fr/rechercher/?q=\"\n",
    "G2A = \"https://www.g2a.com/fr/search?query=\"\n",
    "EpicGames = \"https://store.epicgames.com/en-US/browse?q=\"\n",
    "GOG = \"https://www.gog.com/fr/games?query=\""
   ]
  },
  {
   "cell_type": "code",
   "execution_count": 4,
   "id": "5bd58645",
   "metadata": {},
   "outputs": [],
   "source": [
    "# We need to modified the url request for the search\n",
    "userSearch = str(\"fifa 22\").replace(\" \",\"+\")"
   ]
  },
  {
   "cell_type": "markdown",
   "id": "0c1738dc",
   "metadata": {},
   "source": [
    "Now we scrap the search pages of all platforms"
   ]
  },
  {
   "cell_type": "code",
   "execution_count": 5,
   "id": "8493a8c0",
   "metadata": {},
   "outputs": [
    {
     "name": "stdout",
     "output_type": "stream",
     "text": [
      "\n",
      "                        CHF 69.90                    \n"
     ]
    }
   ],
   "source": [
    "# Steam\n",
    "steam_url = str(Steam + userSearch)\n",
    "request_text = request.urlopen(steam_url).read()\n",
    "htmlpage = bs4.BeautifulSoup(request_text, \"html\")\n",
    "price_Steam = htmlpage.find(class_ = \"search_price\").text\n",
    "print(price_Steam)"
   ]
  },
  {
   "cell_type": "code",
   "execution_count": 11,
   "id": "a8fe3e6c",
   "metadata": {},
   "outputs": [
    {
     "name": "stdout",
     "output_type": "stream",
     "text": [
      "14.58CHF\n"
     ]
    }
   ],
   "source": [
    "# Instant Gaming\n",
    "IG_url = str(IG + userSearch)\n",
    "request_text = requests.get(IG_url).content\n",
    "htmlpage = bs4.BeautifulSoup(request_text, \"html\")\n",
    "price_IG = htmlpage.find_all(class_ = \"price\")[1].text\n",
    "print(price_IG)"
   ]
  },
  {
   "cell_type": "code",
   "execution_count": 7,
   "id": "0689f855",
   "metadata": {},
   "outputs": [
    {
     "name": "stdout",
     "output_type": "stream",
     "text": [
      "58.99€\n"
     ]
    }
   ],
   "source": [
    "# G2A\n",
    "# scraping\n",
    "driver = webdriver.Chrome()\n",
    "driver.get('https://www.g2a.com/fr/search?query=' + userSearch)\n",
    "\n",
    "# we select the correct data\n",
    "content = driver.find_element(By.CLASS_NAME, \"hMxmQl\").get_attribute('innerHTML');\n",
    "print(str(content.split(\">\")[3] + content.split(\">\")[1][0]))\n",
    "\n",
    "# Closes the current window\n",
    "driver.close()"
   ]
  },
  {
   "cell_type": "code",
   "execution_count": 17,
   "id": "d1cf53ea",
   "metadata": {},
   "outputs": [],
   "source": [
    "# EpicGames\n",
    "#EP_url = str(EpicGames + userSearch)\n",
    "#request_text = request.urlopen(EP_url).read()\n",
    "#htmlpage = bs4.BeautifulSoup(request_text, \"html\")\n",
    "#price_Epic = htmlpage.find_all(class_ = \"css-119zqif\")[5].text\n",
    "#print(price_Epic)"
   ]
  },
  {
   "cell_type": "code",
   "execution_count": 19,
   "id": "f04bd9f7",
   "metadata": {},
   "outputs": [],
   "source": [
    "# GOG\n",
    "#GOG_url = str(GOG + userSearch)\n",
    "#request_text = request.urlopen(GOG_url).read()\n",
    "#htmlpage = bs4.BeautifulSoup(request_text, \"html\")\n",
    "#htmlpage\n",
    "#price_GoG = htmlpage.find(selenium_id_ = \"productTileGameTitle\")\n",
    "#print(price_GoG)"
   ]
  }
 ],
 "metadata": {
  "kernelspec": {
   "display_name": "Python 3",
   "language": "python",
   "name": "python3"
  },
  "language_info": {
   "codemirror_mode": {
    "name": "ipython",
    "version": 3
   },
   "file_extension": ".py",
   "mimetype": "text/x-python",
   "name": "python",
   "nbconvert_exporter": "python",
   "pygments_lexer": "ipython3",
   "version": "3.9.2"
  },
  "vscode": {
   "interpreter": {
    "hash": "916dbcbb3f70747c44a77c7bcd40155683ae19c65e1c03b4aa3499c5328201f1"
   }
  }
 },
 "nbformat": 4,
 "nbformat_minor": 5
}
