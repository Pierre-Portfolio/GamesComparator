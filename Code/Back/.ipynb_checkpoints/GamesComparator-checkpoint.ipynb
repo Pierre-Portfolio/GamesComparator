{
 "cells": [
  {
   "cell_type": "markdown",
   "id": "cc6d319d",
   "metadata": {},
   "source": [
    "# Projet Web Scrapping"
   ]
  },
  {
   "cell_type": "code",
   "execution_count": null,
   "id": "da3bab1a",
   "metadata": {},
   "outputs": [],
   "source": [
    "!pip install bs4\n",
    "!pip install selenium"
   ]
  },
  {
   "cell_type": "code",
   "execution_count": null,
   "id": "e701faf5",
   "metadata": {},
   "outputs": [],
   "source": [
    "# Other libs possible to use\n",
    "#pip install requests\n",
    "#pip install jyquickhelper\n",
    "#pip install urllib3\n",
    "#pip install selenium\n",
    "#pip install scrapy"
   ]
  },
  {
   "cell_type": "code",
   "execution_count": null,
   "id": "c663340c",
   "metadata": {},
   "outputs": [],
   "source": [
    "# Import packages for Beautiful Soup\n",
    "import urllib\n",
    "import bs4\n",
    "import requests\n",
    "from urllib import request\n",
    "from bs4 import BeautifulSoup\n",
    "import json"
   ]
  },
  {
   "cell_type": "code",
   "execution_count": null,
   "id": "e2f556dd",
   "metadata": {},
   "outputs": [],
   "source": [
    "# importing packages for selenium\n",
    "from selenium import webdriver\n",
    "from selenium.webdriver.common.by import By"
   ]
  },
  {
   "cell_type": "code",
   "execution_count": null,
   "id": "1a0b928f",
   "metadata": {},
   "outputs": [],
   "source": [
    "# Global var\n",
    "Steam = \"https://store.steampowered.com/search/?term=\"\n",
    "IG = \"https://www.instant-gaming.com/fr/rechercher/?gametype=games&query=\"\n",
    "G2A = \"https://www.g2a.com/fr/category/gaming-c1?f[product-kind][0]=10&query=\"\n",
    "EpicGames = \"https://store.epicgames.com/en-US/browse?q=\"\n",
    "GOG = \"https://www.gog.com/fr/games?query=\""
   ]
  },
  {
   "cell_type": "code",
   "execution_count": null,
   "id": "6070fad8",
   "metadata": {},
   "outputs": [],
   "source": [
    "#Function which return a Json object\n",
    "def ReturnJsonElem(title =  None, picture_url = None, price = None, opinion = None ):\n",
    "    # Create a dictionary with the information\n",
    "    game_info = {\n",
    "        'title': title,\n",
    "        'picture_url': picture_url,\n",
    "        'price': price,\n",
    "        'opinion' : opinion\n",
    "    }\n",
    "\n",
    "    # Convert the dictionary to a JSON object\n",
    "    game_info_json = json.dumps(game_info)\n",
    "\n",
    "    return game_info_json"
   ]
  },
  {
   "cell_type": "markdown",
   "id": "0c1738dc",
   "metadata": {},
   "source": [
    "Now we scrap the search pages of all platforms"
   ]
  },
  {
   "cell_type": "code",
   "execution_count": null,
   "id": "8493a8c0",
   "metadata": {},
   "outputs": [],
   "source": [
    "# Steam\n",
    "def ScrappingSteam(userSearch):\n",
    "    # Send a GET request to the Steam search page for FIFA 22\n",
    "    url = str(Steam + userSearch)\n",
    "    response = requests.get(url)\n",
    "\n",
    "    # Parse the HTML content of the page\n",
    "    soup = BeautifulSoup(response.text, 'html.parser')\n",
    "\n",
    "    # Find the first result on the page\n",
    "    result = soup.find('a', class_='search_result_row')\n",
    "    \n",
    "    # Find the opinion of the game\n",
    "    opinion_element = soup.find(\"span\", {\"class\": \"search_review_summary positive\"})\n",
    "\n",
    "    # Extract the title, picture, and price from the result\n",
    "    try:\n",
    "        title = result.find('span', class_='title').text\n",
    "        picture_url = result.img['src']\n",
    "        price = result.find('div', class_='search_price').text.replace(' ','')\n",
    "        opinion = opinion_element[\"data-tooltip-html\"]\n",
    "    except AttributeError:\n",
    "        title='0';\n",
    "        picture_url='0';\n",
    "        price='0';\n",
    "        opinion='0';\n",
    "    # Return the informations\n",
    "    return ReturnJsonElem(title, picture_url, price, opinion)"
   ]
  },
  {
   "cell_type": "code",
   "execution_count": null,
   "id": "a8fe3e6c",
   "metadata": {},
   "outputs": [],
   "source": [
    "# Instant Gaming\n",
    "def ScrappingIG(userSearch):\n",
    "    IG_url = str(IG + userSearch.replace(\" \",\"+\"))\n",
    "    request_text = requests.get(IG_url).content\n",
    "    htmlpage = bs4.BeautifulSoup(request_text, \"html\")\n",
    "    price = htmlpage.find_all(class_ = \"price\")[1].text\n",
    "    title = htmlpage.find('span', class_='title').text\n",
    "    \n",
    "    # Return the informations\n",
    "    return ReturnJsonElem(title, picture_url, price, opinion)"
   ]
  },
  {
   "cell_type": "code",
   "execution_count": null,
   "id": "0689f855",
   "metadata": {},
   "outputs": [],
   "source": [
    "# G2A\n",
    "def ScrappingG2A(userSearch):\n",
    "    # scraping\n",
    "    driver = webdriver.Chrome()\n",
    "    driver.get(G2A + userSearch.replace(\" \",\"+\"))\n",
    "\n",
    "    # we select the correct data\n",
    "    content = driver.find_element(By.CLASS_NAME, \"hMxmQl\").get_attribute('innerHTML');\n",
    "    price=str(content.split(\">\")[3] + content.split(\">\")[1][0])\n",
    "    print(price)\n",
    "\n",
    "    # Closes the current window\n",
    "    driver.close()\n",
    "    \n",
    "    # Return the informations\n",
    "    return ReturnJsonElem(title, picture_url, price, opinion)\n",
    "\n",
    "'''\n",
    "from selenium import webdriver\n",
    "from selenium.webdriver.common.by import By\n",
    "\n",
    "# Set the URL you want to scrape\n",
    "url = \"https://www.g2a.com/fr/search?query=\"\n",
    "\n",
    "# Create a new Chrome browser and navigate to the URL\n",
    "driver = webdriver.Chrome()\n",
    "driver.get(url)\n",
    "\n",
    "# Find the title of the game\n",
    "title = driver.find_element(By.XPATH, '//h3[@class=\"card-title\"]').text\n",
    "\n",
    "# Find the price of the game\n",
    "price = driver.find_element(By.XPATH, '//span[@class=\"price\"]').text\n",
    "\n",
    "# Find the picture of the game\n",
    "picture = driver.find_element(By.XPATH, '//img[@class=\"card-img-top\"]').get_attribute('src')\n",
    "\n",
    "# Find the opinion of the game\n",
    "opinion = driver.find_element(By.XPATH, '//div[@class=\"card-text\"]').text\n",
    "\n",
    "# Print the results\n",
    "print(title)\n",
    "print(price)\n",
    "print(picture)\n",
    "print(opinion)\n",
    "\n",
    "# Close the browser\n",
    "driver.quit()\n",
    "'''"
   ]
  },
  {
   "cell_type": "code",
   "execution_count": null,
   "id": "036080ad",
   "metadata": {},
   "outputs": [],
   "source": [
    "#Epicgames\n",
    "def ScrappingEpics(userSearch):\n",
    "    # scraping\n",
    "    driver = webdriver.Chrome()\n",
    "    EP_url = str(EpicGames + userSearch.replace(\" \",\"%20\")+'&sortBy=relevancy')\n",
    "    driver.get(EP_url)\n",
    "    #xpath='/html/body/div[1]/div/div[4]/main/div[2]/div/div/div/div/section/div/section/div/section/section/ul/li/div/div/a/div/div/div[2]/div[3]/div/div/div/div/span'\n",
    "\n",
    "    # we select the correct data \n",
    "    try:\n",
    "        title = driver.find_elements(By.CLASS_NAME, \"css-rgqwpc\")[0].get_attribute('innerHTML');\n",
    "        picture_url = driver.find_elements(By.CLASS_NAME, \"css-174g26k\")[0].get_attribute('src');\n",
    "        price = driver.find_elements(By.CLASS_NAME, \"css-119zqif\")[5].get_attribute('innerHTML');\n",
    "        opinion='0';\n",
    "    except IndexError:\n",
    "        title='0';\n",
    "        picture_url='0';\n",
    "        price='0';\n",
    "        opinion='0';\n",
    "    # Closes the current window\n",
    "    # driver.close()\n",
    "    \n",
    "    # Return the informations\n",
    "    return ReturnJsonElem(title, picture_url, price, opinion)"
   ]
  },
  {
   "cell_type": "code",
   "execution_count": null,
   "id": "f04bd9f7",
   "metadata": {},
   "outputs": [],
   "source": [
    "# GOG\n",
    "def ScrappingGOG(userSearch):\n",
    "    GOG_url = str(GOG + userSearch.replace(\" \",\"%20\"))\n",
    "    request_text = request.urlopen(GOG_url).read()\n",
    "    htmlpage = bs4.BeautifulSoup(request_text, \"html\")\n",
    "    try:\n",
    "        title = htmlpage.find_all(class_=\"product-tile__title\")[0].get('title')\n",
    "        picture_url='0'\n",
    "        price = htmlpage.find_all(class_ = \"final-value\")[0].text\n",
    "        opinion='0'\n",
    "    except IndexError:\n",
    "        title='0';\n",
    "        picture_url='0';\n",
    "        price='0';\n",
    "        opinion='0';\n",
    "        \n",
    "    # Return the informations\n",
    "    return ReturnJsonElem(title, picture_url, price, opinion)"
   ]
  },
  {
   "cell_type": "markdown",
   "id": "1489caa7",
   "metadata": {},
   "source": [
    "# Result "
   ]
  },
  {
   "cell_type": "code",
   "execution_count": null,
   "id": "ed30367d",
   "metadata": {},
   "outputs": [],
   "source": [
    "\n",
    "# We define the game at find in the page\n",
    "userSearch = \"fifa 23\"\n",
    "\n",
    "# Steam\n",
    "# print(ScrappingSteam(userSearch))\n",
    "\n",
    "# IG\n",
    "#print(ScrappingIG(userSearch))\n",
    "\n",
    "# G2A\n",
    "# print(ScrappingG2A(userSearch))\n",
    "\n",
    "# Epic Game\n",
    "# print(ScrappingEpics(userSearch))\n",
    "\n",
    "# GOG\n",
    "# print(ScrappingGOG(userSearch))"
   ]
  },
  {
   "cell_type": "code",
   "execution_count": null,
   "id": "49dbd335",
   "metadata": {},
   "outputs": [],
   "source": [
    "def APIgames(userSearch):\n",
    "    table=[]\n",
    "    # Steam\n",
    "    table.append(ScrappingSteam(userSearch))\n",
    "\n",
    "    #IG\n",
    "#     table.append(ScrappingIG(userSearch))\n",
    "\n",
    "    # G2A\n",
    "#     table.append(ScrappingG2A(userSearch))\n",
    "\n",
    "    # Epic Game\n",
    "    table.append(ScrappingEpics(userSearch))\n",
    "\n",
    "    #GOG\n",
    "    table.append(ScrappingGOG(userSearch))\n",
    "    \n",
    "    return table    "
   ]
  }
 ],
 "metadata": {
  "kernelspec": {
   "display_name": "Python 3",
   "language": "python",
   "name": "python3"
  },
  "language_info": {
   "codemirror_mode": {
    "name": "ipython",
    "version": 3
   },
   "file_extension": ".py",
   "mimetype": "text/x-python",
   "name": "python",
   "nbconvert_exporter": "python",
   "pygments_lexer": "ipython3",
   "version": "3.8.8"
  },
  "vscode": {
   "interpreter": {
    "hash": "916dbcbb3f70747c44a77c7bcd40155683ae19c65e1c03b4aa3499c5328201f1"
   }
  }
 },
 "nbformat": 4,
 "nbformat_minor": 5
}
